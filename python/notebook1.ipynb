{
 "cells": [
  {
   "cell_type": "code",
   "execution_count": 2,
   "metadata": {},
   "outputs": [
    {
     "name": "stdout",
     "output_type": "stream",
     "text": [
      "Adjacency Matrix for the Tetrahedron:\n",
      " [[0 1 1 1]\n",
      " [1 0 1 1]\n",
      " [1 1 0 1]\n",
      " [1 1 1 0]]\n",
      "Cohomology Groups:\n",
      " H^0: 1 , H^1: 0 , H^2: 1\n"
     ]
    }
   ],
   "source": [
    "import numpy as np\n",
    "from scipy.linalg import null_space\n",
    "\n",
    "# Define the vertices, edges, and faces of the tetrahedron\n",
    "vertices = [(0,), (1,), (2,), (3,)]  # 0-simplices\n",
    "edges = [(0, 1), (0, 2), (0, 3), (1, 2), (1, 3), (2, 3)]  # 1-simplices\n",
    "faces = [(0, 1, 2), (0, 1, 3), (0, 2, 3), (1, 2, 3)]  # 2-simplices\n",
    "\n",
    "# Adjacency matrix for the tetrahedron\n",
    "adj_matrix_tetrahedron = np.zeros((4, 4), dtype=int)\n",
    "for edge in edges:\n",
    "    i, j = edge\n",
    "    adj_matrix_tetrahedron[i, j] = 1\n",
    "    adj_matrix_tetrahedron[j, i] = 1  # Since the graph is undirected\n",
    "\n",
    "# Define boundary operators based on the simplices\n",
    "def boundary_operator_1(edges, vertices):\n",
    "    boundary_matrix = np.zeros((len(vertices), len(edges)))\n",
    "    for i, edge in enumerate(edges):\n",
    "        boundary_matrix[edge[0], i] = -1\n",
    "        boundary_matrix[edge[1], i] = 1\n",
    "    return boundary_matrix\n",
    "\n",
    "def boundary_operator_2(faces, edges):\n",
    "    boundary_matrix = np.zeros((len(edges), len(faces)))\n",
    "    for i, face in enumerate(faces):\n",
    "        for j, edge in enumerate(edges):\n",
    "            if set(edge).issubset(face):\n",
    "                if face.index(edge[1]) == (face.index(edge[0]) + 1) % 3:\n",
    "                    boundary_matrix[j, i] = 1\n",
    "                else:\n",
    "                    boundary_matrix[j, i] = -1\n",
    "    return boundary_matrix\n",
    "\n",
    "# Construct the boundary matrices\n",
    "boundary_1 = boundary_operator_1(edges, vertices)\n",
    "boundary_2 = boundary_operator_2(faces, edges)\n",
    "\n",
    "# Calculate the cohomology groups using the null space of the coboundary matrices\n",
    "def calculate_cohomology_groups(boundary_1, boundary_2):\n",
    "    # The coboundary matrices are the transposes of the boundary matrices\n",
    "    coboundary_1 = boundary_1.T\n",
    "    coboundary_2 = boundary_2.T\n",
    "    \n",
    "    # The kernel of the coboundary matrix gives us the cohomology group\n",
    "    H_cohomology_0 = null_space(coboundary_1).shape[1]\n",
    "    H_cohomology_1 = null_space(coboundary_2).shape[1] - np.linalg.matrix_rank(boundary_1)\n",
    "    # For H_cohomology_2, since there are no 3-simplices, it's just the number of 2-simplices minus the rank of boundary_2\n",
    "    H_cohomology_2 = len(faces) - np.linalg.matrix_rank(boundary_2)\n",
    "    \n",
    "    return H_cohomology_0, H_cohomology_1, H_cohomology_2\n",
    "\n",
    "# Now we can compute the cohomology groups for the tetrahedron\n",
    "H_cohomology_groups = calculate_cohomology_groups(boundary_1, boundary_2)\n",
    "\n",
    "# Output the adjacency matrix and the cohomology groups\n",
    "print(\"Adjacency Matrix for the Tetrahedron:\\n\", adj_matrix_tetrahedron)\n",
    "print(\"Cohomology Groups:\\n\", \"H^0:\", H_cohomology_groups[0], \n",
    "      \", H^1:\", H_cohomology_groups[1], \", H^2:\", H_cohomology_groups[2])"
   ]
  },
  {
   "cell_type": "code",
   "execution_count": 5,
   "metadata": {},
   "outputs": [
    {
     "name": "stdout",
     "output_type": "stream",
     "text": [
      "[(0, 1, 2), (0, 1, 3), (0, 2, 3), (1, 2, 3)]\n",
      "null_space(coboundary_1).shape[1]:  1\n",
      "null_space(boundary_1).shape[1]: 3\n",
      "Cohomology Groups for the Example Graph:\n",
      "H^0: 1 , H^1: -2 , H^2: 1\n"
     ]
    }
   ],
   "source": [
    "import numpy as np\n",
    "from scipy.linalg import null_space\n",
    "from itertools import combinations\n",
    "\n",
    "def boundary_operator_1(edges, vertices):\n",
    "    boundary_matrix = np.zeros((len(vertices), len(edges)))\n",
    "    for i, edge in enumerate(edges):\n",
    "        boundary_matrix[edge[0], i] = -1\n",
    "        boundary_matrix[edge[1], i] = 1\n",
    "    return boundary_matrix\n",
    "\n",
    "def boundary_operator_2(faces, edges):\n",
    "    boundary_matrix = np.zeros((len(edges), len(faces)))\n",
    "    for i, face in enumerate(faces):\n",
    "        for j, edge in enumerate(edges):\n",
    "            if set(edge).issubset(face):\n",
    "                if face.index(edge[1]) == (face.index(edge[0]) + 1) % 3:\n",
    "                    boundary_matrix[j, i] = 1\n",
    "                else:\n",
    "                    boundary_matrix[j, i] = -1\n",
    "    return boundary_matrix\n",
    "\n",
    "def compute_graph_cohomology(adj_matrix):\n",
    "    # Extract the size of the matrix to determine vertices\n",
    "    num_vertices = adj_matrix.shape[0]\n",
    "    vertices = [(i,) for i in range(num_vertices)]\n",
    "    \n",
    "    # Extract edges from the adjacency matrix\n",
    "    edges = [(i, j) for i in range(num_vertices) for j in range(i) if adj_matrix[i, j] > 0]\n",
    "\n",
    "    # Compute faces assuming a structure similar to a tetrahedron\n",
    "    # This computes all possible combinations of 3 vertices, assuming each forms a face\n",
    "    # This is a simplification and might not be valid for all graph types\n",
    "    faces = [face for face in combinations(range(num_vertices), 3)]\n",
    "\n",
    "    print(faces)\n",
    "\n",
    "    # Compute boundary matrices using predefined functions\n",
    "    boundary_1 = boundary_operator_1(edges, vertices)\n",
    "    boundary_2 = boundary_operator_2(faces, edges) if faces else None\n",
    "\n",
    "    # Calculate cohomology groups\n",
    "    coboundary_1 = boundary_1.T\n",
    "    H_cohomology_0 = null_space(coboundary_1).shape[1]  # Number of connected components\n",
    "\n",
    "    # For H^1, we need to ensure the boundary_1 matrix is defined\n",
    "    if boundary_1 is not None:\n",
    "        #H_cohomology_1 = null_space(coboundary_1).shape[1] - np.linalg.matrix_rank(boundary_1)\n",
    "        H_cohomology_1 = null_space(coboundary_1).shape[1] - np.linalg.matrix_rank(boundary_1)\n",
    "        print(f'null_space(coboundary_1).shape[1]:  {null_space(coboundary_1).shape[1]}')\n",
    "        print(f'null_space(boundary_1).shape[1]: {null_space(boundary_1).shape[1]}')\n",
    "\n",
    "    else:\n",
    "        H_cohomology_1 = \"Not computed - Boundary_1 matrix undefined\"\n",
    "\n",
    "    # For H^2, we need to ensure the boundary_2 matrix is defined and faces are identified\n",
    "    if boundary_2 is not None and faces:\n",
    "        coboundary_2 = boundary_2.T\n",
    "        H_cohomology_2 = len(faces) - np.linalg.matrix_rank(boundary_2)\n",
    "    else:\n",
    "        H_cohomology_2 = \"Not computed - Boundary_2 matrix undefined or faces not identified\"\n",
    "\n",
    "    return H_cohomology_0, H_cohomology_1, H_cohomology_2\n",
    "\n",
    "# Example usage with a given adjacency matrix\n",
    "adj_matrix_example = np.array([\n",
    "    [0, 1, 1, 1],\n",
    "    [1, 0, 1, 1],\n",
    "    [1, 1, 0, 1],\n",
    "    [1, 1, 1, 0]\n",
    "])\n",
    "\n",
    "H_cohomology_groups_example = compute_graph_cohomology(adj_matrix_example)\n",
    "print(\"Cohomology Groups for the Example Graph:\")\n",
    "print(\"H^0:\", H_cohomology_groups_example[0], \n",
    "      \", H^1:\", H_cohomology_groups_example[1], \n",
    "      \", H^2:\", H_cohomology_groups_example[2])\n"
   ]
  },
  {
   "cell_type": "code",
   "execution_count": 8,
   "metadata": {},
   "outputs": [
    {
     "name": "stdout",
     "output_type": "stream",
     "text": [
      "[(0, 1, 2), (0, 1, 3), (0, 1, 4), (0, 1, 5), (0, 2, 3), (0, 2, 4), (0, 2, 5), (0, 3, 4), (0, 3, 5), (0, 4, 5), (1, 2, 3), (1, 2, 4), (1, 2, 5), (1, 3, 4), (1, 3, 5), (1, 4, 5), (2, 3, 4), (2, 3, 5), (2, 4, 5), (3, 4, 5)]\n"
     ]
    },
    {
     "data": {
      "text/plain": [
       "(1, 1, -8)"
      ]
     },
     "execution_count": 8,
     "metadata": {},
     "output_type": "execute_result"
    }
   ],
   "source": [
    "import numpy as np\n",
    "from scipy.linalg import null_space\n",
    "from itertools import combinations\n",
    "\n",
    "# Boundary operator for 1-simplices (edges)\n",
    "def boundary_operator_1(edges, vertices):\n",
    "    boundary_matrix = np.zeros((len(vertices), len(edges)))\n",
    "    for i, edge in enumerate(edges):\n",
    "        boundary_matrix[edge[0], i] = -1\n",
    "        boundary_matrix[edge[1], i] = 1\n",
    "    return boundary_matrix\n",
    "\n",
    "# Boundary operator for 2-simplices (faces)\n",
    "def boundary_operator_2(faces, edges):\n",
    "    boundary_matrix = np.zeros((len(edges), len(faces)))\n",
    "    for i, face in enumerate(faces):\n",
    "        for j, edge in enumerate(edges):\n",
    "            if set(edge).issubset(face):\n",
    "                if (face.index(edge[1]) - face.index(edge[0])) % 3 == 1:\n",
    "                    boundary_matrix[j, i] = 1\n",
    "                else:\n",
    "                    boundary_matrix[j, i] = -1\n",
    "    return boundary_matrix\n",
    "\n",
    "# Compute graph cohomology groups\n",
    "def compute_graph_cohomology(adj_matrix):\n",
    "    num_vertices = adj_matrix.shape[0]\n",
    "    vertices = list(range(num_vertices))\n",
    "    edges = [(i, j) for i in range(num_vertices) for j in range(i) if adj_matrix[i, j] > 0]\n",
    "    faces = [face for face in combinations(vertices, 3)]\n",
    "\n",
    "    print(faces)\n",
    "\n",
    "    boundary_1 = boundary_operator_1(edges, vertices)\n",
    "    boundary_2 = boundary_operator_2(faces, edges)\n",
    "\n",
    "    coboundary_1 = boundary_1.T\n",
    "    H_cohomology_0 = null_space(coboundary_1).shape[1]\n",
    "\n",
    "    # H^1 as the dimension of the kernel of δ^1\n",
    "    H_cohomology_1 = null_space(coboundary_1).shape[1]\n",
    "\n",
    "    # H^2 as the dimension of the kernel of δ^2\n",
    "    coboundary_2 = boundary_2.T\n",
    "    H_cohomology_2 = null_space(coboundary_2).shape[1] - np.linalg.matrix_rank(boundary_2)\n",
    "\n",
    "    return H_cohomology_0, H_cohomology_1, H_cohomology_2\n",
    "\n",
    "# Adjacency matrix for a fully connected graph of four vertices\n",
    "adj_matrix_example = np.array([\n",
    "    [0, 1, 0, 0, 1, 1],\n",
    "    [1, 0, 1, 0, 0, 1],\n",
    "    [0, 1, 0, 1, 0, 1],\n",
    "    [0, 0, 1, 0, 1, 1],\n",
    "    [1, 0, 0, 1, 0, 1],\n",
    "    [1, 1, 1, 1, 1, 1]\n",
    "])\n",
    "\n",
    "# Compute and print the cohomology groups for the example graph\n",
    "H_cohomology_groups_example = compute_graph_cohomology(adj_matrix_example)\n",
    "H_cohomology_groups_example\n"
   ]
  },
  {
   "cell_type": "code",
   "execution_count": 9,
   "metadata": {},
   "outputs": [],
   "source": [
    "def find_triangular_faces(adj_matrix):\n",
    "    num_vertices = adj_matrix.shape[0]\n",
    "    triangular_faces = []\n",
    "\n",
    "    # Check every combination of three vertices to see if they form a face\n",
    "    for i in range(num_vertices):\n",
    "        for j in range(i):\n",
    "            for k in range(j):\n",
    "                # If there is an edge between each pair of vertices, we have a triangular face\n",
    "                if adj_matrix[i][j] and adj_matrix[j][k] and adj_matrix[k][i]:\n",
    "                    triangular_faces.append((i, j, k))\n",
    "\n",
    "    # Now we need to ensure that each edge is part of at most two faces\n",
    "    edge_in_faces = {}\n",
    "\n",
    "    for face in triangular_faces:\n",
    "        edges = [(face[i], face[(i+1) % 3]) for i in range(3)] # Get edges of the triangle\n",
    "        for edge in edges:\n",
    "            edge = tuple(sorted(edge))  # Sort the edge tuple for consistency\n",
    "            if edge not in edge_in_faces:\n",
    "                edge_in_faces[edge] = 0\n",
    "            edge_in_faces[edge] += 1\n",
    "\n",
    "            # If an edge is in more than 2 faces, remove the current face\n",
    "            if edge_in_faces[edge] > 2:\n",
    "                for e in edges:\n",
    "                    e = tuple(sorted(e))\n",
    "                    edge_in_faces[e] -= 1\n",
    "                triangular_faces.remove(face)\n",
    "                break\n",
    "\n",
    "    return triangular_faces\n"
   ]
  },
  {
   "cell_type": "code",
   "execution_count": null,
   "metadata": {},
   "outputs": [],
   "source": []
  },
  {
   "cell_type": "code",
   "execution_count": 10,
   "metadata": {},
   "outputs": [
    {
     "data": {
      "text/plain": [
       "[(5, 1, 0), (5, 2, 1), (5, 3, 2), (5, 4, 0), (5, 4, 3)]"
      ]
     },
     "execution_count": 10,
     "metadata": {},
     "output_type": "execute_result"
    }
   ],
   "source": [
    "find_triangular_faces(adj_matrix_example)"
   ]
  },
  {
   "cell_type": "code",
   "execution_count": 25,
   "metadata": {},
   "outputs": [],
   "source": [
    "import numpy as np\n",
    "from scipy.linalg import null_space\n",
    "from itertools import combinations\n",
    "\n",
    "def find_triangular_faces(adj_matrix):\n",
    "    num_vertices = adj_matrix.shape[0]\n",
    "    triangular_faces = []\n",
    "\n",
    "    # Check every combination of three vertices to see if they form a face\n",
    "    for i in range(num_vertices):\n",
    "        for j in range(i):\n",
    "            for k in range(j):\n",
    "                # If there is an edge between each pair of vertices, we have a triangular face\n",
    "                if adj_matrix[i][j] and adj_matrix[j][k] and adj_matrix[k][i]:\n",
    "                    triangular_faces.append((i, j, k))\n",
    "\n",
    "    # Now we need to ensure that each edge is part of at most two faces\n",
    "    edge_in_faces = {}\n",
    "\n",
    "    for face in triangular_faces:\n",
    "        edges = [(face[i], face[(i+1) % 3]) for i in range(3)] # Get edges of the triangle\n",
    "        for edge in edges:\n",
    "            edge = tuple(sorted(edge))  # Sort the edge tuple for consistency\n",
    "            if edge not in edge_in_faces:\n",
    "                edge_in_faces[edge] = 0\n",
    "            edge_in_faces[edge] += 1\n",
    "\n",
    "            # If an edge is in more than 2 faces, remove the current face\n",
    "            if edge_in_faces[edge] > 2:\n",
    "                for e in edges:\n",
    "                    e = tuple(sorted(e))\n",
    "                    edge_in_faces[e] -= 1\n",
    "                triangular_faces.remove(face)\n",
    "                break\n",
    "\n",
    "    return triangular_faces\n",
    "\n",
    "\n",
    "# Boundary operator for 1-simplices (edges)\n",
    "def boundary_operator_1(edges, vertices):\n",
    "    boundary_matrix = np.zeros((len(vertices), len(edges)))\n",
    "    for i, edge in enumerate(edges):\n",
    "        boundary_matrix[edge[0], i] = -1\n",
    "        boundary_matrix[edge[1], i] = 1\n",
    "    return boundary_matrix\n",
    "\n",
    "# Boundary operator for 2-simplices (faces)\n",
    "def boundary_operator_2(faces, edges):\n",
    "    boundary_matrix = np.zeros((len(edges), len(faces)))\n",
    "    for i, face in enumerate(faces):\n",
    "        for j, edge in enumerate(edges):\n",
    "            if set(edge).issubset(face):\n",
    "                if (face.index(edge[1]) - face.index(edge[0])) % 3 == 1:\n",
    "                    boundary_matrix[j, i] = 1\n",
    "                else:\n",
    "                    boundary_matrix[j, i] = -1\n",
    "    return boundary_matrix\n",
    "\n",
    "# Compute graph cohomology groups\n",
    "def compute_graph_cohomology(adj_matrix):\n",
    "    num_vertices = adj_matrix.shape[0]\n",
    "    vertices = list(range(num_vertices))\n",
    "    edges = [(i, j) for i in range(num_vertices) for j in range(i) if adj_matrix[i, j] > 0]\n",
    "    \n",
    "    # Use the provided find_triangular_faces function to find the faces\n",
    "    faces = find_triangular_faces(adj_matrix)\n",
    "\n",
    "    print(vertices)\n",
    "    print(edges)\n",
    "\n",
    "    # Debugging print statements - remove or comment out in production\n",
    "    print(\"Faces:\", faces)\n",
    "\n",
    "    boundary_1 = boundary_operator_1(edges, vertices)\n",
    "    boundary_2 = boundary_operator_2(faces, edges) if faces else None\n",
    "\n",
    "    coboundary_1 = boundary_1.T\n",
    "    H_cohomology_0 = null_space(coboundary_1).shape[1]\n",
    "\n",
    "    # H^1 as the dimension of the kernel of δ^1\n",
    "    H_cohomology_1 = null_space(coboundary_1).shape[1]\n",
    "\n",
    "    # H^2 as the dimension of the kernel of δ^2\n",
    "    H_cohomology_2 = 'Not computed'  # Default value\n",
    "    if boundary_2 is not None:\n",
    "        coboundary_2 = boundary_2.T\n",
    "\n",
    "        H_cohomology_2 = null_space(coboundary_2).shape[1] - np.linalg.matrix_rank(boundary_2)\n",
    "\n",
    "    return H_cohomology_0, H_cohomology_1, H_cohomology_2"
   ]
  },
  {
   "cell_type": "code",
   "execution_count": null,
   "metadata": {},
   "outputs": [],
   "source": [
    "\n",
    "# Adjacency matrix for a specific graph (for example, a 6-wheel graph)\n",
    "adj_matrix_example = np.array([\n",
    "    [0, 1, 0, 0, 1, 1],\n",
    "    [1, 0, 1, 0, 0, 1],\n",
    "    [0, 1, 0, 1, 0, 1],\n",
    "    [0, 0, 1, 0, 1, 1],\n",
    "    [1, 0, 0, 1, 0, 1],\n",
    "    [1, 1, 1, 1, 1, 0]\n",
    "])\n",
    "\n",
    "# Compute and print the cohomology groups for the example graph\n",
    "H_cohomology_groups_example = compute_graph_cohomology(adj_matrix_example)\n",
    "H_cohomology_groups_example\n"
   ]
  },
  {
   "cell_type": "code",
   "execution_count": 32,
   "metadata": {},
   "outputs": [
    {
     "name": "stdout",
     "output_type": "stream",
     "text": [
      "The triangles are:  [[0, 1, 2], [1, 2, 3], [1, 2, 4], [1, 3, 4], [2, 3, 4], [2, 4, 5]]\n"
     ]
    }
   ],
   "source": [
    "adj2=np.array([\n",
    "    [0,1,1,0,0,0],\n",
    "    [1,0,1,1,1,0],\n",
    "    [1,1,0,1,1,1],\n",
    "    [0,1,1,0,1,0],\n",
    "    [0,1,1,1,0,1],\n",
    "    [0,0,1,0,1,0]\n",
    "])\n",
    "\n",
    "print(\"The triangles are: \", find_triangles(adj2))"
   ]
  },
  {
   "cell_type": "code",
   "execution_count": 31,
   "metadata": {},
   "outputs": [
    {
     "name": "stdout",
     "output_type": "stream",
     "text": [
      "The triangles are:  [[0, 1, 2], [1, 2, 3], [1, 2, 4], [1, 3, 4], [2, 3, 4], [2, 4, 5]]\n"
     ]
    }
   ],
   "source": [
    "def find_triangles(adj, n=None):\n",
    "    if n is None:\n",
    "        n = len(adj)\n",
    "    \n",
    "    triangles = []\n",
    "    for i in range(n):\n",
    "        for j in range(i + 1, n):\n",
    "            for k in range(j + 1, n):\n",
    "                if (adj[i][j] and adj[j][k] and adj[k][i]):\n",
    "                    triangles.append([i, j, k])\n",
    "    return triangles\n",
    "\n",
    "print(\"The triangles are: \", find_triangles(adj2))\n",
    "## >> The triangles are:  [[1, 2, 3]]"
   ]
  },
  {
   "cell_type": "code",
   "execution_count": 28,
   "metadata": {},
   "outputs": [
    {
     "ename": "KeyError",
     "evalue": "(1, 4)",
     "output_type": "error",
     "traceback": [
      "\u001b[1;31m---------------------------------------------------------------------------\u001b[0m",
      "\u001b[1;31mKeyError\u001b[0m                                  Traceback (most recent call last)",
      "Cell \u001b[1;32mIn[28], line 1\u001b[0m\n\u001b[1;32m----> 1\u001b[0m \u001b[43mfind_triangular_faces\u001b[49m\u001b[43m(\u001b[49m\u001b[43madj2\u001b[49m\u001b[43m)\u001b[49m\n",
      "Cell \u001b[1;32mIn[25], line 32\u001b[0m, in \u001b[0;36mfind_triangular_faces\u001b[1;34m(adj_matrix)\u001b[0m\n\u001b[0;32m     30\u001b[0m \u001b[38;5;28;01mfor\u001b[39;00m e \u001b[38;5;129;01min\u001b[39;00m edges:\n\u001b[0;32m     31\u001b[0m     e \u001b[38;5;241m=\u001b[39m \u001b[38;5;28mtuple\u001b[39m(\u001b[38;5;28msorted\u001b[39m(e))\n\u001b[1;32m---> 32\u001b[0m     \u001b[43medge_in_faces\u001b[49m\u001b[43m[\u001b[49m\u001b[43me\u001b[49m\u001b[43m]\u001b[49m \u001b[38;5;241m-\u001b[39m\u001b[38;5;241m=\u001b[39m \u001b[38;5;241m1\u001b[39m\n\u001b[0;32m     33\u001b[0m triangular_faces\u001b[38;5;241m.\u001b[39mremove(face)\n\u001b[0;32m     34\u001b[0m \u001b[38;5;28;01mbreak\u001b[39;00m\n",
      "\u001b[1;31mKeyError\u001b[0m: (1, 4)"
     ]
    }
   ],
   "source": [
    "find_triangular_faces(adj2)"
   ]
  },
  {
   "cell_type": "code",
   "execution_count": 27,
   "metadata": {},
   "outputs": [
    {
     "ename": "KeyError",
     "evalue": "(1, 4)",
     "output_type": "error",
     "traceback": [
      "\u001b[1;31m---------------------------------------------------------------------------\u001b[0m",
      "\u001b[1;31mKeyError\u001b[0m                                  Traceback (most recent call last)",
      "Cell \u001b[1;32mIn[27], line 1\u001b[0m\n\u001b[1;32m----> 1\u001b[0m \u001b[43mcompute_graph_cohomology\u001b[49m\u001b[43m(\u001b[49m\u001b[43madj2\u001b[49m\u001b[43m)\u001b[49m\n",
      "Cell \u001b[1;32mIn[25], line 66\u001b[0m, in \u001b[0;36mcompute_graph_cohomology\u001b[1;34m(adj_matrix)\u001b[0m\n\u001b[0;32m     63\u001b[0m edges \u001b[38;5;241m=\u001b[39m [(i, j) \u001b[38;5;28;01mfor\u001b[39;00m i \u001b[38;5;129;01min\u001b[39;00m \u001b[38;5;28mrange\u001b[39m(num_vertices) \u001b[38;5;28;01mfor\u001b[39;00m j \u001b[38;5;129;01min\u001b[39;00m \u001b[38;5;28mrange\u001b[39m(i) \u001b[38;5;28;01mif\u001b[39;00m adj_matrix[i, j] \u001b[38;5;241m>\u001b[39m \u001b[38;5;241m0\u001b[39m]\n\u001b[0;32m     65\u001b[0m \u001b[38;5;66;03m# Use the provided find_triangular_faces function to find the faces\u001b[39;00m\n\u001b[1;32m---> 66\u001b[0m faces \u001b[38;5;241m=\u001b[39m \u001b[43mfind_triangular_faces\u001b[49m\u001b[43m(\u001b[49m\u001b[43madj_matrix\u001b[49m\u001b[43m)\u001b[49m\n\u001b[0;32m     68\u001b[0m \u001b[38;5;28mprint\u001b[39m(vertices)\n\u001b[0;32m     69\u001b[0m \u001b[38;5;28mprint\u001b[39m(edges)\n",
      "Cell \u001b[1;32mIn[25], line 32\u001b[0m, in \u001b[0;36mfind_triangular_faces\u001b[1;34m(adj_matrix)\u001b[0m\n\u001b[0;32m     30\u001b[0m \u001b[38;5;28;01mfor\u001b[39;00m e \u001b[38;5;129;01min\u001b[39;00m edges:\n\u001b[0;32m     31\u001b[0m     e \u001b[38;5;241m=\u001b[39m \u001b[38;5;28mtuple\u001b[39m(\u001b[38;5;28msorted\u001b[39m(e))\n\u001b[1;32m---> 32\u001b[0m     \u001b[43medge_in_faces\u001b[49m\u001b[43m[\u001b[49m\u001b[43me\u001b[49m\u001b[43m]\u001b[49m \u001b[38;5;241m-\u001b[39m\u001b[38;5;241m=\u001b[39m \u001b[38;5;241m1\u001b[39m\n\u001b[0;32m     33\u001b[0m triangular_faces\u001b[38;5;241m.\u001b[39mremove(face)\n\u001b[0;32m     34\u001b[0m \u001b[38;5;28;01mbreak\u001b[39;00m\n",
      "\u001b[1;31mKeyError\u001b[0m: (1, 4)"
     ]
    }
   ],
   "source": [
    "compute_graph_cohomology(adj2)"
   ]
  },
  {
   "cell_type": "code",
   "execution_count": 36,
   "metadata": {},
   "outputs": [
    {
     "name": "stdout",
     "output_type": "stream",
     "text": [
      "The 3-cycles (triangles) in the graph are: [[1, 0, 2], [1, 2, 3], [1, 2, 4], [1, 3, 4], [2, 3, 4], [2, 4, 5]]\n"
     ]
    }
   ],
   "source": [
    "import networkx as nx\n",
    "\n",
    "# Create a graph (replace this with your actual graph)\n",
    "G = nx.Graph()\n",
    "# Add edges to the graph (replace these with your actual edges)\n",
    "G.add_edges_from(edges2)\n",
    "\n",
    "# Check if the graph is planar\n",
    "is_planar, embedding = nx.check_planarity(G)\n",
    "\n",
    "if is_planar:\n",
    "    # Find all cliques in the graph\n",
    "    cliques = list(nx.enumerate_all_cliques(G))\n",
    "    # Filter cliques to find all 3-cycles, which are cliques of size 3\n",
    "    triangles = [clique for clique in cliques if len(clique) == 3]\n",
    "    print(\"The 3-cycles (triangles) in the graph are:\", triangles)\n",
    "else:\n",
    "    print(\"The graph is not planar.\")\n"
   ]
  },
  {
   "cell_type": "code",
   "execution_count": 34,
   "metadata": {},
   "outputs": [],
   "source": [
    "edges2 = [(i, j) for i in range(6) for j in range(i) if adj2[i, j] > 0]"
   ]
  },
  {
   "cell_type": "code",
   "execution_count": 35,
   "metadata": {},
   "outputs": [
    {
     "data": {
      "text/plain": [
       "[(1, 0),\n",
       " (2, 0),\n",
       " (2, 1),\n",
       " (3, 1),\n",
       " (3, 2),\n",
       " (4, 1),\n",
       " (4, 2),\n",
       " (4, 3),\n",
       " (5, 2),\n",
       " (5, 4)]"
      ]
     },
     "execution_count": 35,
     "metadata": {},
     "output_type": "execute_result"
    }
   ],
   "source": [
    "edges2"
   ]
  },
  {
   "cell_type": "code",
   "execution_count": null,
   "metadata": {},
   "outputs": [],
   "source": []
  }
 ],
 "metadata": {
  "kernelspec": {
   "display_name": "Python 3",
   "language": "python",
   "name": "python3"
  },
  "language_info": {
   "codemirror_mode": {
    "name": "ipython",
    "version": 3
   },
   "file_extension": ".py",
   "mimetype": "text/x-python",
   "name": "python",
   "nbconvert_exporter": "python",
   "pygments_lexer": "ipython3",
   "version": "3.11.5"
  }
 },
 "nbformat": 4,
 "nbformat_minor": 2
}
